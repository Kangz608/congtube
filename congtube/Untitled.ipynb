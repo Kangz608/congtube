{
 "cells": [
  {
   "cell_type": "code",
   "execution_count": 33,
   "metadata": {},
   "outputs": [
    {
     "name": "stdout",
     "output_type": "stream",
     "text": [
      "<QuerySet [{'channel': 1}, {'channel': 3}]>\n"
     ]
    }
   ],
   "source": [
    "from django.utils import timezone\n",
    "from django.db.models import Q\n",
    "from channels.models import Celebrity, Channel\n",
    "from orders.models import Order\n",
    "import configurations\n",
    "configurations.setup()\n",
    "\n",
    "\n",
    "# def order_confirmations():\n",
    "now = int(timezone.now().strftime('%d'))\n",
    "today_order = Order.objects.filter(\n",
    "        Q(created_at__day=now) & Q(status=2)).values('channel').order_by('channel').distinct()\n",
    "print(today_order)\n",
    "\n",
    "for torder in today_order:\n",
    "    idx = torder['channel']\n",
    "    ch = Channel.objects.get(pk=idx)\n",
    "    celebrity = Celebrity.objects.get(channel=ch)\n",
    "#     print(celebrity.phonenumber)\n",
    "\n",
    "\n",
    "# print(timezone.now().strftime(\"%Y-%m-%d 18:%M\"))\n"
   ]
  },
  {
   "cell_type": "code",
   "execution_count": null,
   "metadata": {},
   "outputs": [],
   "source": []
  }
 ],
 "metadata": {
  "kernelspec": {
   "display_name": "Python 3",
   "language": "python",
   "name": "python3"
  },
  "language_info": {
   "codemirror_mode": {
    "name": "ipython",
    "version": 3
   },
   "file_extension": ".py",
   "mimetype": "text/x-python",
   "name": "python",
   "nbconvert_exporter": "python",
   "pygments_lexer": "ipython3",
   "version": "3.8.0"
  }
 },
 "nbformat": 4,
 "nbformat_minor": 2
}
